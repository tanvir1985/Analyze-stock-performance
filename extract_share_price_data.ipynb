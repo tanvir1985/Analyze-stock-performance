{
 "cells": [
  {
   "cell_type": "code",
   "execution_count": null,
   "id": "23cc5eb6-c0fd-45d9-9b39-974cc95ce12f",
   "metadata": {},
   "outputs": [],
   "source": [
    "!pip install yfinance==0.1.67\n",
    "!pip install pandas==1.3.3"
   ]
  },
  {
   "cell_type": "code",
   "execution_count": null,
   "id": "4e4f9fd6-3d2a-4fb5-983b-cb6fd4ca4b37",
   "metadata": {},
   "outputs": [],
   "source": [
    "import yfinance as yf\n",
    "import pandas as pd"
   ]
  },
  {
   "cell_type": "code",
   "execution_count": null,
   "id": "43afb635-3b00-4d00-9acf-8775c11fdd7d",
   "metadata": {},
   "outputs": [],
   "source": [
    "apple = yf.Ticker(\"AAPL\")"
   ]
  },
  {
   "cell_type": "code",
   "execution_count": null,
   "id": "b1121819-b898-4ec5-a5ac-931930a1f6af",
   "metadata": {},
   "outputs": [],
   "source": [
    "apple_info=apple.info\n",
    "apple_info\n"
   ]
  },
  {
   "cell_type": "code",
   "execution_count": null,
   "id": "8eb84210-1d24-4079-8330-a290fd357ce1",
   "metadata": {},
   "outputs": [],
   "source": [
    "apple_share_price_data = apple.history(period=\"max\")\n",
    "apple_share_price_data.head()"
   ]
  },
  {
   "cell_type": "code",
   "execution_count": null,
   "id": "fdb6d8b9-b852-49d8-bb8a-dce11bac9554",
   "metadata": {},
   "outputs": [],
   "source": [
    "apple_share_price_data.reset_index(inplace=True)\n",
    "apple_share_price_data.plot(x=\"Date\", y=\"Open\")\n"
   ]
  },
  {
   "cell_type": "code",
   "execution_count": null,
   "id": "09c7109f-56b7-429b-aa8a-71a4bdb45acf",
   "metadata": {},
   "outputs": [],
   "source": [
    "apple.dividends\n",
    "apple.dividends.plot()"
   ]
  },
  {
   "cell_type": "code",
   "execution_count": null,
   "id": "5c4ce8c9-1c22-4ee1-9de2-b8a16ca9c23f",
   "metadata": {},
   "outputs": [],
   "source": [
    "amd = yf.Ticker(\"AMD\")"
   ]
  },
  {
   "cell_type": "code",
   "execution_count": null,
   "id": "6fd80b4a-c72c-4147-b76f-c5d84c77bcfd",
   "metadata": {},
   "outputs": [],
   "source": [
    "amd_info=amd.info\n",
    "amd_info['country']"
   ]
  },
  {
   "cell_type": "code",
   "execution_count": null,
   "id": "f40d6ca4-586d-4643-a261-38499e6011e5",
   "metadata": {},
   "outputs": [],
   "source": [
    "amd_share_price_data = amd.history(period=\"max\")\n",
    "amd_share_price_data.head"
   ]
  },
  {
   "cell_type": "code",
   "execution_count": null,
   "id": "b9d7f71f-733b-4fa4-b46a-395da82cfa51",
   "metadata": {},
   "outputs": [],
   "source": [
    "amd_share_price_data.reset_index(inplace=True)\n",
    "amd_share_price_data.plot(x=\"Date\", y=\"Open\")"
   ]
  },
  {
   "cell_type": "code",
   "execution_count": null,
   "id": "67e31e7a-f20b-496e-b323-22bb9f213e62",
   "metadata": {},
   "outputs": [],
   "source": []
  }
 ],
 "metadata": {
  "kernelspec": {
   "display_name": "Python 3 (ipykernel)",
   "language": "python",
   "name": "python3"
  },
  "language_info": {
   "codemirror_mode": {
    "name": "ipython",
    "version": 3
   },
   "file_extension": ".py",
   "mimetype": "text/x-python",
   "name": "python",
   "nbconvert_exporter": "python",
   "pygments_lexer": "ipython3",
   "version": "3.9.7"
  }
 },
 "nbformat": 4,
 "nbformat_minor": 5
}
